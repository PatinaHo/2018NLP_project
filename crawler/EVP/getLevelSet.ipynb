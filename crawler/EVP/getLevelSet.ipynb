{
 "cells": [
  {
   "cell_type": "code",
   "execution_count": 26,
   "metadata": {},
   "outputs": [],
   "source": [
    "import re\n",
    "import json\n",
    "from collections import defaultdict\n",
    "from pprint import pprint\n",
    "\n",
    "data_pwd = '../../crawler/EVP/data/'\n",
    "json_data = [json.load(open(data_pwd + chr(letter) + '.json')) for letter in range(ord('A'), ord('Z')+1)]\n",
    "A_word = set()\n",
    "B_word = set()\n",
    "C_word = set()\n",
    "\n",
    "def level():\n",
    "    for start_letter in json_data:\n",
    "        for word in start_letter:\n",
    "            head = word['word']\n",
    "            level = 2\n",
    "            for poses in word['poses']:\n",
    "                for senses in poses['senses']:\n",
    "                    if senses['level'] and ord(senses['level'][0]) - ord('A') < level: level = ord(senses['level'][0]) - ord('A')\n",
    "            if level == 0: A_word.add(head)\n",
    "            elif level == 1: B_word.add(head)\n",
    "            else: C_word.add(head)\n",
    "    \n",
    "    f = open('A_level_word.txt', 'w')\n",
    "    for word in A_word:\n",
    "        f.write(word + ' ')\n",
    "    f.close()\n",
    "    f = open('B_level_word.txt', 'w')\n",
    "    for word in B_word:\n",
    "        f.write(word + ' ')\n",
    "    f.close()\n",
    "    f = open('C_level_word.txt', 'w')\n",
    "    for word in C_word:\n",
    "        f.write(word + ' ')\n",
    "    f.close()"
   ]
  }
 ],
 "metadata": {
  "kernelspec": {
   "display_name": "Python 3",
   "language": "python",
   "name": "python3"
  },
  "language_info": {
   "codemirror_mode": {
    "name": "ipython",
    "version": 3
   },
   "file_extension": ".py",
   "mimetype": "text/x-python",
   "name": "python",
   "nbconvert_exporter": "python",
   "pygments_lexer": "ipython3",
   "version": "3.5.2"
  }
 },
 "nbformat": 4,
 "nbformat_minor": 2
}
