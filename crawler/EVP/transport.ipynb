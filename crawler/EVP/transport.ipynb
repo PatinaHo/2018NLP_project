{
 "cells": [
  {
   "cell_type": "code",
   "execution_count": 1,
   "metadata": {},
   "outputs": [],
   "source": [
    "import json"
   ]
  },
  {
   "cell_type": "code",
   "execution_count": 2,
   "metadata": {},
   "outputs": [],
   "source": [
    "alpha_list = ['A', 'B', 'C', 'D', 'E', 'F', 'G', 'H', 'I', 'J', 'K', 'L', 'M', 'N', 'O', 'P', 'Q',\n",
    "         'R', 'S', 'T', 'U', 'V', 'W', 'X', 'Y' ,'Z']"
   ]
  },
  {
   "cell_type": "code",
   "execution_count": 3,
   "metadata": {},
   "outputs": [
    {
     "data": {
      "text/plain": [
       "'\\nexample \\n\\naccept\\tverb B1 E1 (to agree to take something that is offered to you)\\t\\n        \"to accept an apology/invitation/offer\"\\t<I hope that you accept my apology> \\n'"
      ]
     },
     "execution_count": 3,
     "metadata": {},
     "output_type": "execute_result"
    }
   ],
   "source": [
    "'''\n",
    "example \n",
    "\n",
    "accept\tverb B1 E1 (to agree to take something that is offered to you)\t\n",
    "        \"to accept an apology/invitation/offer\"\t<I hope that you accept my apology> \n",
    "'''"
   ]
  },
  {
   "cell_type": "code",
   "execution_count": 4,
   "metadata": {},
   "outputs": [
    {
     "name": "stdout",
     "output_type": "stream",
     "text": [
      "processing A\n"
     ]
    }
   ],
   "source": [
    "for alpha in alpha_list:\n",
    "    json_data = json.load(open('data/'+alpha+'.json', 'r')) \n",
    "    transport = open('transport_data/'+alpha+'.txt', 'w')\n",
    "    print('processing %s' % alpha)\n",
    "    \n",
    "    transport.write('word\tpos\tlevel\tEVP def\texam_dict\texam_learner\\n')\n",
    "    transport.write('========================================================================\\n')\n",
    "    \n",
    "    for w in json_data:\n",
    "        sense_index = 1\n",
    "        word = w['word']\n",
    "        for pos in w['poses']:\n",
    "            _pos = pos['pos']\n",
    "            for sense in pos['senses']:\n",
    "                define = '(' + sense['sense'] + ')'\n",
    "                level = sense['level']\n",
    "                dict_examp = '\"' + sense['dict_examp'] + '\"'\n",
    "                lear_examp = '<' + sense['lear_examp'] + '>'\n",
    "                \n",
    "                word_set = [word, _pos, level, 'E'+str(sense_index), define, dict_examp, lear_examp]\n",
    "                sense_index += 1\n",
    "                \n",
    "                transport.write(' '.join(word_set) + '\\n')\n",
    "    transport.close()"
   ]
  },
  {
   "cell_type": "code",
   "execution_count": null,
   "metadata": {},
   "outputs": [],
   "source": []
  }
 ],
 "metadata": {
  "kernelspec": {
   "display_name": "Python 3",
   "language": "python",
   "name": "python3"
  },
  "language_info": {
   "codemirror_mode": {
    "name": "ipython",
    "version": 3
   },
   "file_extension": ".py",
   "mimetype": "text/x-python",
   "name": "python",
   "nbconvert_exporter": "python",
   "pygments_lexer": "ipython3",
   "version": "3.5.2"
  }
 },
 "nbformat": 4,
 "nbformat_minor": 2
}
