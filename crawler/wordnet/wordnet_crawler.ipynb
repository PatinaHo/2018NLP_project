{
 "cells": [
  {
   "cell_type": "code",
   "execution_count": 1,
   "metadata": {},
   "outputs": [],
   "source": [
    "from nltk.corpus import wordnet \n",
    "import json"
   ]
  },
  {
   "cell_type": "code",
   "execution_count": 2,
   "metadata": {},
   "outputs": [],
   "source": [
    "alpha_list = ['A', 'B', 'C', 'D', 'E', 'F', 'G', 'H', 'I', 'J', 'K', 'L', 'M', 'N', 'O', 'P', 'Q',\n",
    "         'R', 'S', 'T', 'U', 'V', 'W', 'X', 'Y' ,'Z']"
   ]
  },
  {
   "cell_type": "code",
   "execution_count": 3,
   "metadata": {
    "scrolled": true
   },
   "outputs": [
    {
     "name": "stdout",
     "output_type": "stream",
     "text": [
      "processing A\n",
      "processing B\n",
      "processing C\n",
      "processing D\n",
      "processing E\n",
      "processing F\n",
      "processing G\n",
      "processing H\n",
      "processing I\n",
      "processing J\n",
      "processing K\n",
      "processing L\n",
      "processing M\n",
      "processing N\n",
      "processing O\n",
      "processing P\n",
      "processing Q\n",
      "processing R\n",
      "processing S\n",
      "processing T\n",
      "processing U\n",
      "processing V\n",
      "processing W\n",
      "processing X\n",
      "processing Y\n",
      "processing Z\n"
     ]
    }
   ],
   "source": [
    "for alpha in alpha_list:\n",
    "    #if alpha != 'A': continue\n",
    "    json_data = json.load(open('../EVP/data/'+alpha+'.json', 'r')) \n",
    "    data = open('data/'+alpha+'.txt', 'w')\n",
    "    print('processing %s' % alpha)\n",
    "    \n",
    "    data.write('word\tpos\tfreq\tWN def\texam\\n')\n",
    "    data.write('========================================================================\\n')\n",
    "    \n",
    "    for w in json_data:\n",
    "        word = w['word']\n",
    "        \n",
    "        # EVP data number\n",
    "        # ADJ, ADJ_SAT, ADV, NOUN, VERB = 'a', 's', 'r', 'n', 'v'\n",
    "        EVP_pos = {'a':0, 'r': 0, 'n': 0, 'v':0}\n",
    "        for p in w['poses']:\n",
    "            pos = p['pos']\n",
    "            if pos.startswith('adj'): EVP_pos['a'] += 1\n",
    "            elif pos.startswith('adv'): EVP_pos['r'] += 1\n",
    "            elif pos == 'noun': EVP_pos['n'] += 1\n",
    "            elif pos == 'verb': EVP_pos['v'] += 1\n",
    "        \n",
    "        syns = wordnet.synsets(word)\n",
    "        \n",
    "        WN_pos = {'a':0, 'r': 0, 'n': 0, 'v':0}\n",
    "        for sense_index, s in enumerate(syns, start=1):\n",
    "            pos = s.pos()\n",
    "            if pos == 'a' or pos == 's': \n",
    "                WN_pos['a'] += 1\n",
    "                pos = 'a'\n",
    "            elif pos == 'r': WN_pos['r'] += 1\n",
    "            elif pos == 'n': WN_pos['n'] += 1\n",
    "            elif pos == 'v': WN_pos['v'] += 1\n",
    "            \n",
    "            sense = '(' + s.definition() + ')'\n",
    "            \n",
    "            exams = s.examples()\n",
    "            new_exam = []\n",
    "            for e in exams:\n",
    "                new_exam.append('\"' + e + '\"')\n",
    "                \n",
    "            freq = 0\n",
    "            for l in s.lemmas():\n",
    "                if l.name() == word:\n",
    "                    freq = l.count()\n",
    "                    break\n",
    "            \n",
    "            if pos not in ['a', 'r', 'n', 'v']: continue\n",
    "            if WN_pos[pos] > EVP_pos[pos]+3: continue\n",
    "            \n",
    "            word_set = [word, pos, str(freq), 'W'+str(sense_index), sense, '; '.join(new_exam)]\n",
    "                \n",
    "            data.write(' '.join(word_set) + '\\n')\n",
    "    \n",
    "    data.close()"
   ]
  },
  {
   "cell_type": "code",
   "execution_count": 4,
   "metadata": {},
   "outputs": [
    {
     "name": "stdout",
     "output_type": "stream",
     "text": [
      "v\n",
      "v\n",
      "v\n",
      "v\n",
      "v\n",
      "s\n",
      "s\n"
     ]
    }
   ],
   "source": [
    "syns = wordnet.synsets('abandoned')\n",
    "for s in syns:\n",
    "    print(s.pos())"
   ]
  },
  {
   "cell_type": "code",
   "execution_count": null,
   "metadata": {},
   "outputs": [],
   "source": []
  }
 ],
 "metadata": {
  "kernelspec": {
   "display_name": "Python 3",
   "language": "python",
   "name": "python3"
  },
  "language_info": {
   "codemirror_mode": {
    "name": "ipython",
    "version": 3
   },
   "file_extension": ".py",
   "mimetype": "text/x-python",
   "name": "python",
   "nbconvert_exporter": "python",
   "pygments_lexer": "ipython3",
   "version": "3.5.2"
  }
 },
 "nbformat": 4,
 "nbformat_minor": 2
}
