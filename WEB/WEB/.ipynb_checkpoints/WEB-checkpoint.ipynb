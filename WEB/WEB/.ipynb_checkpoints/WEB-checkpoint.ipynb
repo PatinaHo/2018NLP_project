{
 "cells": [
  {
   "cell_type": "code",
   "execution_count": 1,
   "metadata": {
    "scrolled": true
   },
   "outputs": [],
   "source": [
    "from flask import Flask, render_template, request, url_for, send_file\n",
    "from selenium import webdriver\n",
    "from bs4 import BeautifulSoup\n",
    "\n",
    "import os\n",
    "import requests\n",
    "from utils.extract import *\n",
    "from utils.voc_grading_and_detail import *\n",
    "from utils.create_pdf import *\n",
    "from utils.grammar_pattern import *\n",
    "from utils.autoFindVerbPattern import *\n",
    "from readability import Document\n",
    "\n",
    "from utils.create_pdf.create_flashcard import *\n",
    "from utils.create_pdf.create_article import *\n",
    "from utils.create_pdf.create_wordlist import *\n",
    "from utils.create_pdf.create_grammar import *\n",
    "from utils.create_pdf.stylesheet import *\n",
    "\n",
    "from pprint import pprint\n",
    "import json"
   ]
  },
  {
   "cell_type": "code",
   "execution_count": 2,
   "metadata": {
    "scrolled": false
   },
   "outputs": [
    {
     "name": "stderr",
     "output_type": "stream",
     "text": [
      " * Running on http://127.0.0.1:5000/ (Press CTRL+C to quit)\n",
      "127.0.0.1 - - [24/May/2018 16:15:36] \"GET / HTTP/1.1\" 200 -\n",
      "127.0.0.1 - - [24/May/2018 16:15:36] \"GET /static/css/font-awesome.min.css HTTP/1.1\" 404 -\n",
      "127.0.0.1 - - [24/May/2018 16:15:52] \"POST /handle_data HTTP/1.1\" 200 -\n",
      "127.0.0.1 - - [24/May/2018 16:16:17] \"GET /download/Southwest%20pilot,%20a%20former%20Navy%20fighter,%20praised%20for%20her%20'nerves%20of%20steel'%20during%20emergency_wordlist.pdf HTTP/1.1\" 200 -\n"
     ]
    }
   ],
   "source": [
    "app = Flask(__name__ )\n",
    "\n",
    "stylesheet = stylesheet() # pdf stylesheet\n",
    "egp = load_egp() # grammar pattern\n",
    "\n",
    "if not os.path.exists('download'):\n",
    "    os.makedirs('download')\n",
    "\n",
    "@app.route('/', methods=['POST', 'GET'])\n",
    "def index():\n",
    "    return render_template('index.html')\n",
    "\n",
    "@app.route('/handle_data', methods=['POST', 'GET'])\n",
    "def handle_data():\n",
    "    url = request.form['url']\n",
    "    user_level = request.form['user_level']\n",
    "    response = requests.get(url)\n",
    "\n",
    "    doc = Document(remove_a(response.text))\n",
    "    title = doc.short_title()\n",
    "    publish_date = getPublishDate(url)\n",
    "    content = clean_content(doc.summary())\n",
    "    grade, wordlist = voc_grading_and_detail(content, user_level)\n",
    "    patterns = findGramPat(content)\n",
    "    # create pdf\n",
    "    new = create_article(title, content, stylesheet, user_level, grade, 'download/'+title+'_article.pdf')\n",
    "    create_wordlist(wordlist, patterns, 'download/'+title+'_wordlist.pdf')\n",
    "    # create_grammar(title, original, stylesheet, egp, 'download/'+title+'_grammar.pdf')\n",
    "    \n",
    "    return render_template('format.html', title=title, publish_date=publish_date, content=new,\n",
    "                           user_level=user_level, grade=grade)\n",
    "\n",
    "@app.route('/download/<filename>', methods=['GET'])\n",
    "def return_reformatted(filename):\n",
    "    try:\n",
    "        return send_file('download/'+filename)# , as_attachment=True\n",
    "    except Exception as e:\n",
    "        return str(e)\n",
    "\n",
    "#static url cache buster\n",
    "@app.context_processor\n",
    "def override_url_for():\n",
    "    return dict(url_for=dated_url_for)\n",
    "\n",
    "def dated_url_for(endpoint, **values):\n",
    "    if endpoint == 'static':\n",
    "        filename = values.get('filename', None)\n",
    "        if filename:\n",
    "            file_path = os.path.join(app.root_path,\n",
    "                                     endpoint, filename)\n",
    "            values['q'] = int(os.stat(file_path).st_mtime)\n",
    "    return url_for(endpoint, **values)   \n",
    "\n",
    "if __name__ == '__main__':\n",
    "    app.run(debug=False)\n",
    "    #app.run(host='0.0.0.0', port=int(\"9487\"), debug=False)"
   ]
  },
  {
   "cell_type": "code",
   "execution_count": null,
   "metadata": {},
   "outputs": [],
   "source": []
  }
 ],
 "metadata": {
  "kernelspec": {
   "display_name": ".flask",
   "language": "python",
   "name": ".flask"
  },
  "language_info": {
   "codemirror_mode": {
    "name": "ipython",
    "version": 3
   },
   "file_extension": ".py",
   "mimetype": "text/x-python",
   "name": "python",
   "nbconvert_exporter": "python",
   "pygments_lexer": "ipython3",
   "version": "3.5.2"
  }
 },
 "nbformat": 4,
 "nbformat_minor": 2
}
